{
 "metadata": {
  "name": "CryptCell"
 },
 "nbformat": 3,
 "nbformat_minor": 0,
 "worksheets": [
  {
   "cells": [
    {
     "cell_type": "markdown",
     "metadata": {},
     "source": [
      "## script\n",
      "\n",
      "<script>\n",
      "    var scpts =[\"/static/js/pidcrypt/pidcrypt.js\",\n",
      "    \"/static/js/pidcrypt/pidcrypt_util.js\",\n",
      "    \"/static/js/pidcrypt/md5.js\",\n",
      "    \"/static/js/pidcrypt/aes_core.js\",\n",
      "    \"/static/js/pidcrypt/aes_cbc.js\"];\n",
      "    for(var i=0;i< scpts.length; i++){\n",
      "        var script = document.createElement( 'script' );\n",
      "        script.type = 'text/javascript';\n",
      "        script.src = scpts[i];\n",
      "        $(\"head\").append( script );\n",
      "    }\n",
      "    \n",
      "    var allbutfirst = function(textblock){\n",
      "        var lines = textblock.split('\\n');\n",
      "        lines.splice(0,1);\n",
      "        var newtext = lines.join('\\n');   \n",
      "    }\n",
      "    \n",
      "    var encr = function(cn,p){\n",
      "        var aes = new pidCrypt.AES.CBC();\n",
      "        var options = {nBits:256};\n",
      "        var txt = allbutfirst(IPython.notebook.get_cell(cn).get_text())\n",
      "        if(IPython.notebook.get_cell(cn).code_mirror.getLine(0) === '##--jsext-crypt--'){\n",
      "            aes.initEncrypt(txt, p, options);\n",
      "            var enc = aes.encrypt()\n",
      "            IPython.notebook.get_cell(cn).set_text('#--jsext-decrypt--\\n'+enc)\n",
      "         } else {\n",
      "             console.log('no header, not encrypting');\n",
      "         }\n",
      "    }\n",
      "  \n",
      "    var decr = function(cn,p){\n",
      "        var aes = new pidCrypt.AES.CBC();\n",
      "        var options = {nBits:256};\n",
      "        var txt = allbutfirst(IPython.notebook.get_cell(cn).get_text())\n",
      "        if(IPython.notebook.get_cell(cn).code_mirror.getLine(0) === '##--jsext-decrypt--'){\n",
      "            aes.initDecrypt(txt, p, options);\n",
      "            var dec = aes.decrypt();\n",
      "            if( dec != ''){\n",
      "                IPython.notebook.get_cell(cn).set_text('##--jsext-crypt--\\n'+dec)\n",
      "            } else\u00a0{\n",
      "                alert('unable to decryt');\n",
      "            }\n",
      "        }                \n",
      "    }\n",
      "\n",
      "</script>    \n",
      "\n",
      "we can <a OnClick='var p=prompt(\"Encrypt with pwd :\");encr(3,p);return false'> Encrypt </a> , and <a OnClick='var p=prompt(\"Decrypt with pwd :\");decr(3,p)'>Decrypt</a>."
     ]
    },
    {
     "cell_type": "markdown",
     "metadata": {},
     "source": [
      "something"
     ]
    },
    {
     "cell_type": "raw",
     "metadata": {},
     "source": [
      "Next Cell can be encrypted and decrypted By clicking on above line"
     ]
    },
    {
     "cell_type": "raw",
     "metadata": {},
     "source": [
      "##--jsext-crypt--\n",
      "SciPy is Great"
     ]
    },
    {
     "cell_type": "code",
     "collapsed": false,
     "input": [
      "#--jsext-decrypt--U2FsdGVkX1/SAEeuAx2fMI4hBV6vjDRkfYbbQa4AkR0="
     ],
     "language": "python",
     "metadata": {},
     "outputs": []
    }
   ],
   "metadata": {}
  }
 ]
}