{
 "metadata": {
  "name": "CryptCell"
 },
 "nbformat": 3,
 "nbformat_minor": 0,
 "worksheets": [
  {
   "cells": [
    {
     "cell_type": "markdown",
     "metadata": {},
     "source": [
      "## script\n",
      "\n",
      "<script>\n",
      "    var script_root = '/static/js/pidcrypt/';\n",
      "    var decrypt_hash = '##--jsext-decrypt--'\n",
      "    var encrypt_hash = '##--jsext-crypt--'        \n",
      "    \n",
      "    var scpts =[\"pidcrypt.js\",\n",
      "                \"pidcrypt_util.js\",\n",
      "                \"md5.js\",\n",
      "                \"aes_core.js\",\n",
      "                \"aes_cbc.js\" ];\n",
      "    \n",
      "    for(var i=0 ; i< scpts.length ; i++){\n",
      "        var script = document.createElement( 'script' );\n",
      "        script.type = 'text/javascript';\n",
      "        script.src = script_root+scpts[i];\n",
      "        $(\"head\").append( script );\n",
      "    }\n",
      "    \n",
      "    var allbutfirst = function(textblock){\n",
      "        var lines = textblock.split('\\n');\n",
      "        lines.splice(0,1);\n",
      "        return lines.join('\\n');   \n",
      "    }\n",
      "    \n",
      "    var encr = function(cn,p){\n",
      "        var aes = new pidCrypt.AES.CBC();\n",
      "        var options = {nBits:256};\n",
      "        var txt = allbutfirst(IPython.notebook.get_cell(cn).get_text())\n",
      "        if(IPython.notebook.get_cell(cn).code_mirror.getLine(0) === encrypt_hash){\n",
      "            aes.initEncrypt(txt, p, options);\n",
      "            var enc = aes.encrypt()\n",
      "            IPython.notebook.get_cell(cn).set_text(decrypt_hash+'\\n'+enc)\n",
      "         } else {\n",
      "            console.log('no header, not encrypting');\n",
      "         }\n",
      "    }\n",
      "  \n",
      "    var decr = function(cn,p){\n",
      "        var aes = new pidCrypt.AES.CBC();\n",
      "        var options = {nBits:256};\n",
      "        var txt = allbutfirst(IPython.notebook.get_cell(cn).get_text())\n",
      "        if(IPython.notebook.get_cell(cn).code_mirror.getLine(0) === decrypt_hash){\n",
      "            aes.initDecrypt(txt, p, options);\n",
      "            var dec = aes.decrypt();\n",
      "            if( dec != ''){\n",
      "                IPython.notebook.get_cell(cn).set_text(encrypt_hash+'\\n'+dec)\n",
      "            } else\u00a0{\n",
      "                console.log('unable to decryt cell ',i);\n",
      "            }\n",
      "        }                \n",
      "    }\n",
      "        \n",
      "    var eall = function(p){\n",
      "        for(var i in IPython.notebook.get_cells())\n",
      "            encr(i,p)\n",
      "    }\n",
      "        \n",
      "    var dall = function(p){\n",
      "        for(var i in IPython.notebook.get_cells())\n",
      "            decr(i,p)\n",
      "    }\n",
      "</script>    \n",
      "\n",
      "But the header `##--jsext-crypt--` on the first line of cells you want to crypt.\n",
      "\n",
      "Click on <a href='' OnClick='var p=prompt(\"Encrypt with pwd :\");eall(p);return false'> Encrypt </a>, you will be promped for a password.\n",
      "\n",
      "To decript, click on  <a href='' OnClick='var p=prompt(\"Decrypt with pwd :\");dall(p)'>Decrypt</a>, and enter the password to decode.\n",
      "\n"
     ]
    },
    {
     "cell_type": "markdown",
     "metadata": {},
     "source": [
      "something"
     ]
    },
    {
     "cell_type": "raw",
     "metadata": {},
     "source": [
      "Next Cell can be encrypted and decrypted By clicking on above line"
     ]
    },
    {
     "cell_type": "raw",
     "metadata": {},
     "source": [
      "##--jsext-crypt--\n",
      "SciPy 2012 is great ! "
     ]
    },
    {
     "cell_type": "code",
     "collapsed": false,
     "input": [
      "##--jsext-crypt--\n",
      "# This have to be encrypted\n",
      "# Lorem ipsum dolor sit amet, consectetur adipiscing\n",
      "# elit.  Donec consequat erat eu justo aliquet sit amet porttitor nunc\n",
      "# fermentum. Donec egestas, quam et convallis tincidunt, sem urna mattis\n",
      "# ligula, vitae sollicitudin justo nibh at massa. Donec fringilla, justo non\n",
      "# hendrerit feugiat, nibh sem bibendum risus, in sollicitudin tortor odio eget\n",
      "# dolor. Mauris lacinia malesuada magna, vel viverra ante tempus a. Sed euismod\n",
      "# varius adipiscing. Praesent mi orci, vulputate at auctor non, placerat ut\n",
      "# massa. Duis nec eros arcu, sit amet vulputate ipsum. Suspendisse imperdiet\n",
      "# scelerisque tellus sed tincidunt. Sed mi libero, sagittis id eleifend eget,\n",
      "# feugiat congue mi."
     ],
     "language": "python",
     "metadata": {},
     "outputs": [],
     "prompt_number": 4
    },
    {
     "cell_type": "code",
     "collapsed": false,
     "input": [],
     "language": "python",
     "metadata": {},
     "outputs": []
    }
   ],
   "metadata": {}
  }
 ]
}